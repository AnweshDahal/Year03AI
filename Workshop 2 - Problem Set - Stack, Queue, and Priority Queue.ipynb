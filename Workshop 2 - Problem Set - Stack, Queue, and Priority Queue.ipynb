{
 "cells": [
  {
   "cell_type": "markdown",
   "metadata": {
    "slideshow": {
     "slide_type": "slide"
    }
   },
   "source": [
    "# Stack\n",
    "A stack is a container of objects that are inserted and removed according to the last-in first-out (LIFO) principle. In the stack the following operations are allowed: \n",
    "\n",
    "\n",
    "- **Push(Key)**: adds key to the collection\n",
    "- **Key Top()**: returns most recently-added key\n",
    "- **Key Pop()**: removes and returns most recently-added key\n",
    "- **Boolean Empty()**: are there any elements?\n",
    "\n",
    "\n",
    "A stack is a limited access data structure - elements can be added and removed from the stack only at the top. Push adds an item to the top of the stack, pop removes the item from the top."
   ]
  },
  {
   "cell_type": "markdown",
   "metadata": {},
   "source": [
    "### Task 1: Implement the following methods of Stack class in Python\n",
    "\n",
    "Your tasks are to <font color=\"red\">*write piece of code inside the methods* below </font>. **Please read the docstring** (statements within triple quote `\"\"\" \"\"\"` inside methods) carefully that tells you exactely what you need to do. After implementing those methods<font color=\"red\"> please comment out the statement `pass` <font> inside each method. "
   ]
  },
  {
   "cell_type": "code",
   "execution_count": 103,
   "metadata": {
    "slideshow": {
     "slide_type": "skip"
    }
   },
   "outputs": [],
   "source": [
    "#implementation of a stack in python\n",
    "class Stack():\n",
    "    def __init__(self, initial):\n",
    "        \n",
    "        self.items = [initial] \n",
    "        \n",
    "    def isEmpty(self):\n",
    "        \"\"\"\n",
    "        Return True if the data attribute, items which is a list, is empty\n",
    "        else return False \n",
    "        \"\"\"\n",
    "        ## Write your code here and comment out the statement pass\n",
    "        # pass\n",
    "        return False if len(self.items) else True\n",
    "\n",
    "    \n",
    "    \n",
    "    def push(self, item):\n",
    "        \"\"\"\n",
    "        Append the input (item) at the end of the data attribute (items). \n",
    "        No need to return anything.        \n",
    "        \"\"\"\n",
    "        \n",
    "        ## Write your code here and comment out the statement pass\n",
    "        # pass\n",
    "        self.items.append(item)\n",
    "\n",
    "\n",
    "        \n",
    "    def pop(self):\n",
    "        \"\"\"\n",
    "        Remove the last element from the data attribute (items) and return  \n",
    "        that element.        \n",
    "        \"\"\"\n",
    "        \n",
    "        ## Write your code here and comment out the statement pass\n",
    "        # pass\n",
    "        return self.items.pop() if len(self.items) else None\n",
    "\n",
    "    \n",
    "    def size(self):\n",
    "        \"\"\"\n",
    "        Return the size of the data attribute, items.\n",
    "        \"\"\"\n",
    "        \n",
    "        ## Write your code here and comment out the statement pass\n",
    "        return len(self.items)\n",
    "\n"
   ]
  },
  {
   "cell_type": "markdown",
   "metadata": {},
   "source": [
    "### Testing the implementation of `Stack`\n",
    "\n",
    "Please use the following examples (in individual cell below) to test your implementation of methods."
   ]
  },
  {
   "cell_type": "code",
   "execution_count": 104,
   "metadata": {},
   "outputs": [],
   "source": [
    "# instanciate Stack object\n",
    "s = Stack(1)"
   ]
  },
  {
   "cell_type": "code",
   "execution_count": 105,
   "metadata": {},
   "outputs": [
    {
     "data": {
      "text/plain": [
       "<__main__.Stack at 0x19d12372790>"
      ]
     },
     "execution_count": 105,
     "metadata": {},
     "output_type": "execute_result"
    }
   ],
   "source": [
    "# Which memory address the object sits in\n",
    "s"
   ]
  },
  {
   "cell_type": "code",
   "execution_count": 106,
   "metadata": {},
   "outputs": [
    {
     "data": {
      "text/plain": [
       "[1]"
      ]
     },
     "execution_count": 106,
     "metadata": {},
     "output_type": "execute_result"
    }
   ],
   "source": [
    "# display the elements in the data attribute\n",
    "s.items"
   ]
  },
  {
   "cell_type": "code",
   "execution_count": 107,
   "metadata": {},
   "outputs": [],
   "source": [
    "# call push method on the stack object\n",
    "s.push(2)"
   ]
  },
  {
   "cell_type": "code",
   "execution_count": 108,
   "metadata": {},
   "outputs": [
    {
     "data": {
      "text/plain": [
       "[1, 2]"
      ]
     },
     "execution_count": 108,
     "metadata": {},
     "output_type": "execute_result"
    }
   ],
   "source": [
    "# check if push method works as you intend it to do\n",
    "s.items"
   ]
  },
  {
   "cell_type": "code",
   "execution_count": 109,
   "metadata": {},
   "outputs": [],
   "source": [
    "s.push(3)"
   ]
  },
  {
   "cell_type": "code",
   "execution_count": 110,
   "metadata": {},
   "outputs": [
    {
     "data": {
      "text/plain": [
       "[1, 2, 3]"
      ]
     },
     "execution_count": 110,
     "metadata": {},
     "output_type": "execute_result"
    }
   ],
   "source": [
    "s.items"
   ]
  },
  {
   "cell_type": "code",
   "execution_count": 111,
   "metadata": {},
   "outputs": [
    {
     "data": {
      "text/plain": [
       "False"
      ]
     },
     "execution_count": 111,
     "metadata": {},
     "output_type": "execute_result"
    }
   ],
   "source": [
    "# check if isEmpty method works as you intend it to do\n",
    "s.isEmpty()"
   ]
  },
  {
   "cell_type": "code",
   "execution_count": 112,
   "metadata": {},
   "outputs": [
    {
     "data": {
      "text/plain": [
       "3"
      ]
     },
     "execution_count": 112,
     "metadata": {},
     "output_type": "execute_result"
    }
   ],
   "source": [
    "# check if pop method works as you intend it to do\n",
    "s.pop()"
   ]
  },
  {
   "cell_type": "code",
   "execution_count": 113,
   "metadata": {},
   "outputs": [
    {
     "data": {
      "text/plain": [
       "[1, 2]"
      ]
     },
     "execution_count": 113,
     "metadata": {},
     "output_type": "execute_result"
    }
   ],
   "source": [
    "s.items"
   ]
  },
  {
   "cell_type": "code",
   "execution_count": 114,
   "metadata": {},
   "outputs": [
    {
     "data": {
      "text/plain": [
       "2"
      ]
     },
     "execution_count": 114,
     "metadata": {},
     "output_type": "execute_result"
    }
   ],
   "source": [
    "s.pop()"
   ]
  },
  {
   "cell_type": "code",
   "execution_count": 115,
   "metadata": {},
   "outputs": [
    {
     "data": {
      "text/plain": [
       "1"
      ]
     },
     "execution_count": 115,
     "metadata": {},
     "output_type": "execute_result"
    }
   ],
   "source": [
    "s.pop()"
   ]
  },
  {
   "cell_type": "code",
   "execution_count": 116,
   "metadata": {},
   "outputs": [],
   "source": [
    "# Figure out why do you get this error.\n",
    "s.pop()"
   ]
  },
  {
   "cell_type": "code",
   "execution_count": 117,
   "metadata": {},
   "outputs": [
    {
     "data": {
      "text/plain": [
       "0"
      ]
     },
     "execution_count": 117,
     "metadata": {},
     "output_type": "execute_result"
    }
   ],
   "source": [
    "# check if size method works as you intend it to do\n",
    "s.size()"
   ]
  },
  {
   "cell_type": "markdown",
   "metadata": {
    "slideshow": {
     "slide_type": "slide"
    }
   },
   "source": [
    "# Queue\n",
    "A queue is a container of objects (a linear collection) that are inserted and removed according to the first-in first-out (FIFO) principle. New additions are made to the back of the queue, while removal happens in the front. \n",
    "\n",
    "In the queue the following operations are allowed: \n",
    "\n",
    "- **Enqueue(Key)**: adds key to the collection\n",
    "- **Key Dequeue()**: removes and returns least recently-added key\n",
    "- **Boolean Empty()**: are there any elements?\n",
    "\n",
    "\n",
    "Enqueue means to insert an item into the back of the queue, dequeue means removing the front item."
   ]
  },
  {
   "cell_type": "markdown",
   "metadata": {},
   "source": [
    "### Task 2: Implement the following methods of Queue class in Python\n",
    "\n",
    "Your tasks are to <font color=\"red\">*write piece of code inside the methods* below </font>. **Please read the docstring** (statements within triple quote `\"\"\" \"\"\"` inside methods) carefully that tells you exactely what you need to do. After implementing those methods<font color=\"red\"> please comment out the statement `pass` <font> inside each method. "
   ]
  },
  {
   "cell_type": "code",
   "execution_count": 16,
   "metadata": {
    "slideshow": {
     "slide_type": "skip"
    }
   },
   "outputs": [],
   "source": [
    "# implementation of a queue in python\n",
    "\n",
    "class Queue():\n",
    "    def __init__(self, initial):\n",
    "        self.items = [initial]  \n",
    "        \n",
    "    def isEmpty(self):        \n",
    "        \"\"\"\n",
    "        Return True if the data attribute, items which is a list, is empty\n",
    "        else return False \n",
    "        \"\"\"\n",
    "        ## Write your code here and comment out the statement pass\n",
    "        pass\n",
    "\n",
    "    \n",
    "    def enqueue(self, item):\n",
    "        \"\"\"\n",
    "        Append the input (item) at the front of data attribute (items). \n",
    "        No need to return anything.        \n",
    "        \"\"\"\n",
    "        ## Write your code here and comment out the statement pass\n",
    "        pass\n",
    "\n",
    "        \n",
    "    def dequeue(self):\n",
    "        \"\"\"\n",
    "        Remove the last (least recently added) element from the data attribute (items) and return  \n",
    "        that element.        \n",
    "        \"\"\"\n",
    "        ## Write your code here and comment out the statement pass\n",
    "        pass\n",
    "\n",
    "    \n",
    "    def size(self):\n",
    "        \"\"\"\n",
    "        Return the size of the data attribute, items.\n",
    "        \"\"\"\n",
    "        ## Write your code here and comment out the statement pass\n",
    "        pass  \n"
   ]
  },
  {
   "cell_type": "markdown",
   "metadata": {},
   "source": [
    "### Testing the implementation of `Queue`\n",
    "\n",
    "Please use the following examples (in individual cell below) to test your implementation of methods."
   ]
  },
  {
   "cell_type": "code",
   "execution_count": 17,
   "metadata": {},
   "outputs": [],
   "source": [
    "# instanciate Stack object\n",
    "q = Queue(1)"
   ]
  },
  {
   "cell_type": "code",
   "execution_count": 18,
   "metadata": {},
   "outputs": [
    {
     "data": {
      "text/plain": [
       "<__main__.Queue at 0x222dc9ee8e0>"
      ]
     },
     "execution_count": 18,
     "metadata": {},
     "output_type": "execute_result"
    }
   ],
   "source": [
    "# Which memory address the object sits in\n",
    "q"
   ]
  },
  {
   "cell_type": "code",
   "execution_count": 19,
   "metadata": {},
   "outputs": [
    {
     "data": {
      "text/plain": [
       "[1]"
      ]
     },
     "execution_count": 19,
     "metadata": {},
     "output_type": "execute_result"
    }
   ],
   "source": [
    "# display the elements in the data attribute\n",
    "q.items"
   ]
  },
  {
   "cell_type": "code",
   "execution_count": 20,
   "metadata": {},
   "outputs": [],
   "source": [
    "# call enqueue method on the queue object\n",
    "q.enqueue(2)"
   ]
  },
  {
   "cell_type": "code",
   "execution_count": 21,
   "metadata": {},
   "outputs": [
    {
     "data": {
      "text/plain": [
       "[2, 1]"
      ]
     },
     "execution_count": 21,
     "metadata": {},
     "output_type": "execute_result"
    }
   ],
   "source": [
    "# check if enqueue method works as you intend it to do\n",
    "q.items"
   ]
  },
  {
   "cell_type": "code",
   "execution_count": 22,
   "metadata": {},
   "outputs": [],
   "source": [
    "q.enqueue(3)"
   ]
  },
  {
   "cell_type": "code",
   "execution_count": 23,
   "metadata": {},
   "outputs": [
    {
     "data": {
      "text/plain": [
       "[3, 2, 1]"
      ]
     },
     "execution_count": 23,
     "metadata": {},
     "output_type": "execute_result"
    }
   ],
   "source": [
    "q.items"
   ]
  },
  {
   "cell_type": "code",
   "execution_count": 24,
   "metadata": {},
   "outputs": [
    {
     "data": {
      "text/plain": [
       "False"
      ]
     },
     "execution_count": 24,
     "metadata": {},
     "output_type": "execute_result"
    }
   ],
   "source": [
    "# check if isEmpty method works as you intend it to do\n",
    "q.isEmpty()"
   ]
  },
  {
   "cell_type": "code",
   "execution_count": 25,
   "metadata": {},
   "outputs": [
    {
     "data": {
      "text/plain": [
       "1"
      ]
     },
     "execution_count": 25,
     "metadata": {},
     "output_type": "execute_result"
    }
   ],
   "source": [
    "# check if dequeue method works as you intend it to do\n",
    "q.dequeue()"
   ]
  },
  {
   "cell_type": "code",
   "execution_count": 26,
   "metadata": {},
   "outputs": [
    {
     "data": {
      "text/plain": [
       "[3, 2]"
      ]
     },
     "execution_count": 26,
     "metadata": {},
     "output_type": "execute_result"
    }
   ],
   "source": [
    "q.items"
   ]
  },
  {
   "cell_type": "code",
   "execution_count": 27,
   "metadata": {},
   "outputs": [
    {
     "data": {
      "text/plain": [
       "2"
      ]
     },
     "execution_count": 27,
     "metadata": {},
     "output_type": "execute_result"
    }
   ],
   "source": [
    "q.dequeue()"
   ]
  },
  {
   "cell_type": "markdown",
   "metadata": {
    "slideshow": {
     "slide_type": "slide"
    }
   },
   "source": [
    "# Priority Queue\n",
    "\n",
    "Priority Queue is an extension of queue with following properties.\n",
    "1. Every element has a priority score associated with it.\n",
    "2. An element with the smallest priority score is dequeued before an element with increasing priority scores.\n",
    "3. If two elements have the same priority score, they are dequeued according to their order in the queue.\n",
    "\n",
    "\n",
    "Please refer to the [heapq documentation](https://docs.python.org/3/library/heapq.html) to understand how it can be used."
   ]
  },
  {
   "cell_type": "markdown",
   "metadata": {},
   "source": [
    "### Task 3: Implement the following methods of **`PriorityQueue`** class in Python\n",
    "\n",
    "Your tasks are to <font color=\"red\">*write piece of code inside the methods* below </font>. **Please read the docstring** (statements within triple quote `\"\"\" \"\"\"` inside methods) carefully that tells you exactely what you need to do. After implementing those methods<font color=\"red\"> please comment out the statement `pass` <font> inside each method. "
   ]
  },
  {
   "cell_type": "code",
   "execution_count": 28,
   "metadata": {
    "slideshow": {
     "slide_type": "skip"
    }
   },
   "outputs": [],
   "source": [
    "# Implementation of a priority queue in python\n",
    "from heapq import heappush, heappop\n",
    "\n",
    "class PriorityQueue():\n",
    "    def __init__(self,value):\n",
    "        self.items = []\n",
    "        # each element is stored as a tuple pair of priority score and actual value\n",
    "        heappush(self.items,(0, value)) \n",
    "        \n",
    "    def isEmpty(self):\n",
    "        \"\"\"\n",
    "        Return True if the data attribute, items which is a list, is empty\n",
    "        else return False \n",
    "        \"\"\"\n",
    "        ## Write your code here and comment out the statement pass\n",
    "        pass\n",
    "\n",
    "    \n",
    "    def dequeue(self):\n",
    "        \"\"\" \n",
    "        Return the element (tuple) with the smallest priority score.\n",
    "        \n",
    "        Hint: heappop method can be helpful.\n",
    "        \n",
    "        \"\"\" \n",
    "        ## Write your code here and comment out the statement pass\n",
    "        pass\n",
    "\n",
    "    \n",
    "    def enqueue(self,item):\n",
    "        \"\"\"\n",
    "        Append the input (item) at the data attribute (items) based on priorty score. \n",
    "        No need to return anything.   \n",
    "        \n",
    "        Hint: heappush method can be helpful.\n",
    "        \"\"\"\n",
    "        \n",
    "        \n",
    "        ## Write your code here and comment out the statement pass\n",
    "        pass\n",
    "\n",
    "        \n",
    "    def size(self):\n",
    "        \"\"\"\n",
    "        Return the size of the data attribute, items.\n",
    "        \"\"\"\n",
    "        \n",
    "        ## Write your code here and comment out the statement pass\n",
    "        pass"
   ]
  },
  {
   "cell_type": "code",
   "execution_count": 29,
   "metadata": {},
   "outputs": [],
   "source": [
    "# instanciate Stack object\n",
    "pq = PriorityQueue(2)"
   ]
  },
  {
   "cell_type": "code",
   "execution_count": 30,
   "metadata": {},
   "outputs": [
    {
     "data": {
      "text/plain": [
       "<__main__.PriorityQueue at 0x222dca963d0>"
      ]
     },
     "execution_count": 30,
     "metadata": {},
     "output_type": "execute_result"
    }
   ],
   "source": [
    "# Which memory address the object sits in\n",
    "pq\n"
   ]
  },
  {
   "cell_type": "code",
   "execution_count": 31,
   "metadata": {},
   "outputs": [
    {
     "data": {
      "text/plain": [
       "[(0, 2)]"
      ]
     },
     "execution_count": 31,
     "metadata": {},
     "output_type": "execute_result"
    }
   ],
   "source": [
    "# display the elements in the data attribute\n",
    "pq.items"
   ]
  },
  {
   "cell_type": "code",
   "execution_count": 32,
   "metadata": {},
   "outputs": [],
   "source": [
    "# call enqueue method on the priority queue object\n",
    "# Note while inserting elements, you need to pass them as tuples of priority score and actual value\n",
    "pq.enqueue((1, 33)) "
   ]
  },
  {
   "cell_type": "code",
   "execution_count": 33,
   "metadata": {},
   "outputs": [
    {
     "data": {
      "text/plain": [
       "[(0, 2), (1, 33)]"
      ]
     },
     "execution_count": 33,
     "metadata": {},
     "output_type": "execute_result"
    }
   ],
   "source": [
    "# check if enqueue method works as you intend it to do\n",
    "pq.items"
   ]
  },
  {
   "cell_type": "code",
   "execution_count": 34,
   "metadata": {},
   "outputs": [],
   "source": [
    "pq.enqueue((2, 32)) "
   ]
  },
  {
   "cell_type": "code",
   "execution_count": 35,
   "metadata": {},
   "outputs": [
    {
     "data": {
      "text/plain": [
       "[(0, 2), (1, 33), (2, 32)]"
      ]
     },
     "execution_count": 35,
     "metadata": {},
     "output_type": "execute_result"
    }
   ],
   "source": [
    "pq.items"
   ]
  },
  {
   "cell_type": "code",
   "execution_count": 36,
   "metadata": {},
   "outputs": [],
   "source": [
    "pq.enqueue((2, 12))"
   ]
  },
  {
   "cell_type": "code",
   "execution_count": 37,
   "metadata": {},
   "outputs": [
    {
     "data": {
      "text/plain": [
       "[(0, 2), (1, 33), (2, 32), (2, 12)]"
      ]
     },
     "execution_count": 37,
     "metadata": {},
     "output_type": "execute_result"
    }
   ],
   "source": [
    "pq.items"
   ]
  },
  {
   "cell_type": "code",
   "execution_count": 38,
   "metadata": {},
   "outputs": [
    {
     "data": {
      "text/plain": [
       "4"
      ]
     },
     "execution_count": 38,
     "metadata": {},
     "output_type": "execute_result"
    }
   ],
   "source": [
    "# check if size method works as you intend it to do\n",
    "pq.size()"
   ]
  },
  {
   "cell_type": "code",
   "execution_count": 39,
   "metadata": {},
   "outputs": [
    {
     "data": {
      "text/plain": [
       "(0, 2)"
      ]
     },
     "execution_count": 39,
     "metadata": {},
     "output_type": "execute_result"
    }
   ],
   "source": [
    "# check if dequeue method works as you intend it to do\n",
    "pq.dequeue()"
   ]
  },
  {
   "cell_type": "code",
   "execution_count": 40,
   "metadata": {},
   "outputs": [
    {
     "data": {
      "text/plain": [
       "[(1, 33), (2, 12), (2, 32)]"
      ]
     },
     "execution_count": 40,
     "metadata": {},
     "output_type": "execute_result"
    }
   ],
   "source": [
    "pq.items"
   ]
  },
  {
   "cell_type": "code",
   "execution_count": 41,
   "metadata": {},
   "outputs": [
    {
     "data": {
      "text/plain": [
       "(1, 33)"
      ]
     },
     "execution_count": 41,
     "metadata": {},
     "output_type": "execute_result"
    }
   ],
   "source": [
    "pq.dequeue()"
   ]
  },
  {
   "cell_type": "code",
   "execution_count": 42,
   "metadata": {},
   "outputs": [
    {
     "data": {
      "text/plain": [
       "[(2, 12), (2, 32)]"
      ]
     },
     "execution_count": 42,
     "metadata": {},
     "output_type": "execute_result"
    }
   ],
   "source": [
    "pq.items"
   ]
  },
  {
   "cell_type": "markdown",
   "metadata": {},
   "source": [
    "## Happy Coding!!"
   ]
  }
 ],
 "metadata": {
  "kernelspec": {
   "display_name": "Python 3 (ipykernel)",
   "language": "python",
   "name": "python3"
  },
  "language_info": {
   "codemirror_mode": {
    "name": "ipython",
    "version": 3
   },
   "file_extension": ".py",
   "mimetype": "text/x-python",
   "name": "python",
   "nbconvert_exporter": "python",
   "pygments_lexer": "ipython3",
   "version": "3.8.11"
  }
 },
 "nbformat": 4,
 "nbformat_minor": 4
}
