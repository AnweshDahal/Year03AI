{
 "cells": [
  {
   "cell_type": "markdown",
   "id": "7d18d95e",
   "metadata": {},
   "source": [
    "Write a program to store the values of the matrix given below in a 2D list.\n",
    "Then calculate\n",
    "1. The sum of the diagonal elements\n",
    "2. The sum of all elements above the diagonal and the sum of all the elements below the diagonal\n",
    "3. The sum of all the numbers in the rows of the matrix\n",
    "4. The sum of all the columns of the matrix\n",
    "5. Find out the max and min element of each column.\n",
    "<br/><br/>\n",
    "a = [[2 3 4]\n",
    "     [1 5 6]\n",
    "     [5 8 5]]"
   ]
  },
  {
   "cell_type": "markdown",
   "id": "ed52593d",
   "metadata": {},
   "source": [
    "**Creating the list/ array**"
   ]
  },
  {
   "cell_type": "code",
   "execution_count": 4,
   "id": "0726ff3f",
   "metadata": {},
   "outputs": [],
   "source": [
    "# importing the numpy module\n",
    "import numpy as np"
   ]
  },
  {
   "cell_type": "code",
   "execution_count": 8,
   "id": "948ffc7f",
   "metadata": {},
   "outputs": [],
   "source": [
    "# storing the matrix in a numpy array\n",
    "matrix = np.array([2,3,4,1,5,6,5,8,5])\n",
    "# reshaping the array into a 3x3 array\n",
    "matrix = matrix.reshape(3,3)"
   ]
  },
  {
   "cell_type": "code",
   "execution_count": 10,
   "id": "face4415",
   "metadata": {},
   "outputs": [
    {
     "name": "stdout",
     "output_type": "stream",
     "text": [
      "[[2 3 4]\n",
      " [1 5 6]\n",
      " [5 8 5]]\n"
     ]
    }
   ],
   "source": [
    "# The array must be of shape 3x3\n",
    "print(matrix)"
   ]
  },
  {
   "cell_type": "markdown",
   "id": "b5026af9",
   "metadata": {},
   "source": [
    "**Question 1**"
   ]
  },
  {
   "cell_type": "markdown",
   "id": "e11dd37d",
   "metadata": {},
   "source": [
    "_Finding the sum of all diagonal elements by iterating theough the matrix_"
   ]
  },
  {
   "cell_type": "code",
   "execution_count": 28,
   "id": "1d1d7d68",
   "metadata": {},
   "outputs": [],
   "source": [
    "sum = 0 # this variable will store the sum\n",
    "\n",
    "for row in range(len(matrix)):\n",
    "    for column in range(len(matrix[row])):\n",
    "        if row == column:\n",
    "            sum += matrix[row][column]"
   ]
  },
  {
   "cell_type": "code",
   "execution_count": 29,
   "id": "06e2ccb1",
   "metadata": {},
   "outputs": [
    {
     "name": "stdout",
     "output_type": "stream",
     "text": [
      "12\n"
     ]
    }
   ],
   "source": [
    "print(sum) # checking the result"
   ]
  },
  {
   "cell_type": "markdown",
   "id": "dbecb12e",
   "metadata": {},
   "source": [
    "_Finding the sum of all diagonal elements by using ndenumerate and checking diaginal indices_"
   ]
  },
  {
   "cell_type": "code",
   "execution_count": 30,
   "id": "ac052576",
   "metadata": {},
   "outputs": [],
   "source": [
    "sum2 = 0 # this variable will store the sum\n",
    "for index, element in np.ndenumerate(matrix):\n",
    "    \"\"\"\n",
    "        the index variable will store a tuple which contains\n",
    "        the 2D index of the element, which is stored in the \n",
    "        variable element\n",
    "    \"\"\"\n",
    "    if (index[0] == index[1]):\n",
    "        sum2 += element\n",
    "        "
   ]
  },
  {
   "cell_type": "code",
   "execution_count": 31,
   "id": "bc417fb5",
   "metadata": {},
   "outputs": [
    {
     "name": "stdout",
     "output_type": "stream",
     "text": [
      "12\n"
     ]
    }
   ],
   "source": [
    "print(sum2)"
   ]
  },
  {
   "cell_type": "markdown",
   "id": "4f058c36",
   "metadata": {},
   "source": [
    "**Question 2**"
   ]
  },
  {
   "cell_type": "code",
   "execution_count": 35,
   "id": "776261ea",
   "metadata": {},
   "outputs": [],
   "source": [
    "# using ndenumerate to iterate through the 2D array\n",
    "sum_of_elements_above, sum_of_elements_below = 0, 0\n",
    "for index, element in np.ndenumerate(matrix):\n",
    "    # checking if the element lies above the diagonal [row < column]\n",
    "    if index[0] < index[1]:\n",
    "        sum_of_elements_above += element\n",
    "    # checking if the element lies below the diagonal [row > column]\n",
    "    elif index[0] > index[1]:\n",
    "        sum_of_elements_below += element\n",
    "        "
   ]
  },
  {
   "cell_type": "code",
   "execution_count": 37,
   "id": "6d6c86a9",
   "metadata": {},
   "outputs": [
    {
     "name": "stdout",
     "output_type": "stream",
     "text": [
      "The sum of elements above the diagonals is: 13\n",
      "The sum of elements below the diagonal is: 14\n"
     ]
    }
   ],
   "source": [
    "print (f'The sum of elements above the diagonals is: {sum_of_elements_above}\\nThe sum of elements below the diagonal is: {sum_of_elements_below}')"
   ]
  },
  {
   "cell_type": "code",
   "execution_count": null,
   "id": "9a7bda0f",
   "metadata": {},
   "outputs": [],
   "source": []
  }
 ],
 "metadata": {
  "kernelspec": {
   "display_name": "Python 3 (ipykernel)",
   "language": "python",
   "name": "python3"
  },
  "language_info": {
   "codemirror_mode": {
    "name": "ipython",
    "version": 3
   },
   "file_extension": ".py",
   "mimetype": "text/x-python",
   "name": "python",
   "nbconvert_exporter": "python",
   "pygments_lexer": "ipython3",
   "version": "3.8.11"
  }
 },
 "nbformat": 4,
 "nbformat_minor": 5
}
