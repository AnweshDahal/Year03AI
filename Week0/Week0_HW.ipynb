{
 "cells": [
  {
   "cell_type": "markdown",
   "id": "27c81ddf",
   "metadata": {},
   "source": [
    "## Week 0 Assignement\n",
    "_Anwesh Dahal - **L3C1**_"
   ]
  },
  {
   "cell_type": "markdown",
   "id": "7d18d95e",
   "metadata": {},
   "source": [
    "Write a program to store the values of the matrix given below in a 2D list.\n",
    "Then calculate\n",
    "1. The sum of the diagonal elements\n",
    "2. The sum of all elements above the diagonal and the sum of all the elements below the diagonal\n",
    "3. The sum of all the numbers in the rows of the matrix\n",
    "4. The sum of all the columns of the matrix\n",
    "5. Find out the max and min element of each column.\n",
    "<br/><br/>\n",
    "a = [[2 3 4]\n",
    "     [1 5 6]\n",
    "     [5 8 5]]"
   ]
  },
  {
   "cell_type": "markdown",
   "id": "ed52593d",
   "metadata": {},
   "source": [
    "**Creating the list/ array**"
   ]
  },
  {
   "cell_type": "code",
   "execution_count": 7,
   "id": "0726ff3f",
   "metadata": {},
   "outputs": [],
   "source": [
    "# importing the numpy module\n",
    "import numpy as np"
   ]
  },
  {
   "cell_type": "code",
   "execution_count": 8,
   "id": "948ffc7f",
   "metadata": {},
   "outputs": [],
   "source": [
    "# storing the matrix in a numpy array\n",
    "matrix = np.array([2,3,4,1,5,6,5,8,5])\n",
    "# reshaping the array into a 3x3 array\n",
    "matrix = matrix.reshape(3,3)"
   ]
  },
  {
   "cell_type": "code",
   "execution_count": 9,
   "id": "face4415",
   "metadata": {},
   "outputs": [
    {
     "name": "stdout",
     "output_type": "stream",
     "text": [
      "[[2 3 4]\n",
      " [1 5 6]\n",
      " [5 8 5]]\n"
     ]
    }
   ],
   "source": [
    "# The array must be of shape 3x3\n",
    "print(matrix)"
   ]
  },
  {
   "cell_type": "markdown",
   "id": "b5026af9",
   "metadata": {},
   "source": [
    "**Question 1**"
   ]
  },
  {
   "cell_type": "markdown",
   "id": "e11dd37d",
   "metadata": {},
   "source": [
    "_Finding the sum of all diagonal elements by iterating through the matrix_"
   ]
  },
  {
   "cell_type": "code",
   "execution_count": 10,
   "id": "1d1d7d68",
   "metadata": {},
   "outputs": [],
   "source": [
    "sum = 0 # this variable will store the sum\n",
    "\n",
    "for row in range(len(matrix)):\n",
    "    for column in range(len(matrix[row])):\n",
    "        if row == column:\n",
    "            sum += matrix[row][column]"
   ]
  },
  {
   "cell_type": "code",
   "execution_count": 11,
   "id": "06e2ccb1",
   "metadata": {},
   "outputs": [
    {
     "name": "stdout",
     "output_type": "stream",
     "text": [
      "12\n"
     ]
    }
   ],
   "source": [
    "print(sum) # checking the result"
   ]
  },
  {
   "cell_type": "markdown",
   "id": "dbecb12e",
   "metadata": {},
   "source": [
    "_Finding the sum of all diagonal elements by using ndenumerate and checking diaginal indices_"
   ]
  },
  {
   "cell_type": "code",
   "execution_count": 12,
   "id": "ac052576",
   "metadata": {},
   "outputs": [],
   "source": [
    "sum2 = 0 # this variable will store the sum\n",
    "for index, element in np.ndenumerate(matrix):\n",
    "    \"\"\"\n",
    "        the index variable will store a tuple which contains\n",
    "        the 2D index of the element, which is stored in the \n",
    "        variable element\n",
    "    \"\"\"\n",
    "    if (index[0] == index[1]):\n",
    "        sum2 += element\n",
    "        "
   ]
  },
  {
   "cell_type": "code",
   "execution_count": 13,
   "id": "bc417fb5",
   "metadata": {},
   "outputs": [
    {
     "name": "stdout",
     "output_type": "stream",
     "text": [
      "12\n"
     ]
    }
   ],
   "source": [
    "print(sum2)"
   ]
  },
  {
   "cell_type": "markdown",
   "id": "4f058c36",
   "metadata": {},
   "source": [
    "**Question 2**"
   ]
  },
  {
   "cell_type": "code",
   "execution_count": 14,
   "id": "776261ea",
   "metadata": {},
   "outputs": [],
   "source": [
    "# using ndenumerate to iterate through the 2D array\n",
    "sum_of_elements_above, sum_of_elements_below = 0, 0\n",
    "for index, element in np.ndenumerate(matrix):\n",
    "    # checking if the element lies above the diagonal [row < column]\n",
    "    if index[0] < index[1]:\n",
    "        sum_of_elements_above += element\n",
    "    # checking if the element lies below the diagonal [row > column]\n",
    "    elif index[0] > index[1]:\n",
    "        sum_of_elements_below += element\n",
    "        "
   ]
  },
  {
   "cell_type": "code",
   "execution_count": 15,
   "id": "6d6c86a9",
   "metadata": {},
   "outputs": [
    {
     "name": "stdout",
     "output_type": "stream",
     "text": [
      "The sum of elements above the diagonals is: 13\n",
      "The sum of elements below the diagonal is: 14\n"
     ]
    }
   ],
   "source": [
    "print (f'The sum of elements above the diagonals is: {sum_of_elements_above}\\nThe sum of elements below the diagonal is: {sum_of_elements_below}')"
   ]
  },
  {
   "cell_type": "markdown",
   "id": "db1f8b78",
   "metadata": {},
   "source": [
    "**Question 3**"
   ]
  },
  {
   "cell_type": "code",
   "execution_count": 19,
   "id": "80d0b980",
   "metadata": {},
   "outputs": [],
   "source": [
    "# Storing the sum of rows in a list will address the case when the number of rows is unknown\n",
    "sum_of_rows = list()\n",
    "# Iterating through each row in the matrix and stroing the value in var row\n",
    "for row in matrix:\n",
    "    \"\"\"\n",
    "        You can iterate through the row and add the values individually,\n",
    "        then you can store the value in a variable or push it into the\n",
    "        list.\n",
    "        Alternatively, you can use the numpy.sum() function to calculate the \n",
    "        sum of all elements of the row, this way you save coding time and \n",
    "        don't have to reinvent the wheel.\n",
    "    \"\"\"\n",
    "    sum_of_rows.append(np.sum(row))"
   ]
  },
  {
   "cell_type": "code",
   "execution_count": 21,
   "id": "1fd28276",
   "metadata": {},
   "outputs": [
    {
     "name": "stdout",
     "output_type": "stream",
     "text": [
      "The sum of the row 1 is 9.\n",
      "The sum of the row 2 is 12.\n",
      "The sum of the row 3 is 18.\n"
     ]
    }
   ],
   "source": [
    "# Printing out the sum of the rows\n",
    "for index in range(len(sum_of_rows)):\n",
    "    print(f'The sum of the row {index + 1} is {sum_of_rows[index]}.')"
   ]
  },
  {
   "cell_type": "markdown",
   "id": "ff3b88e5",
   "metadata": {},
   "source": [
    "**Question 4**"
   ]
  },
  {
   "cell_type": "code",
   "execution_count": 41,
   "id": "43c232c5",
   "metadata": {},
   "outputs": [],
   "source": [
    "# Creating a numpy array of length equal to the number of column of the matrix\n",
    "# This will store the sum of the columns\n",
    "sum_of_columns = np.full(len(matrix[0]), 0)\n",
    "# Iterating through each row of the matrix\n",
    "for row in matrix:\n",
    "    \"\"\"\n",
    "        iterating through the columns of the row and adding them to the values\n",
    "        on the sum of columns at respective place\n",
    "    \"\"\"\n",
    "    for column in range(len(row)):\n",
    "        sum_of_columns[column] += row[column]"
   ]
  },
  {
   "cell_type": "code",
   "execution_count": 42,
   "id": "0cb26d77",
   "metadata": {},
   "outputs": [
    {
     "name": "stdout",
     "output_type": "stream",
     "text": [
      "The sum of the column 1 is 8.\n",
      "The sum of the column 2 is 16.\n",
      "The sum of the column 3 is 15.\n"
     ]
    }
   ],
   "source": [
    "# Printing out the sum of the rows\n",
    "for index in range(len(sum_of_columns)):\n",
    "    print(f'The sum of the column {index + 1} is {sum_of_columns[index]}.')"
   ]
  },
  {
   "cell_type": "markdown",
   "id": "638d36d7",
   "metadata": {},
   "source": [
    "**Question 5**"
   ]
  },
  {
   "cell_type": "code",
   "execution_count": 45,
   "id": "c5c7e121",
   "metadata": {},
   "outputs": [],
   "source": [
    "# Creating a numpy array of length equal to the number of column of the matrix\n",
    "# This will store the min and max value of each columns in a nx2 where the\n",
    "# element of col 0 is the min value and col 1 is the max value\n",
    "min_and_max_val = np.full((len(matrix[0]), 2), [100,0])\n",
    "# Iterating through each row of the matrix\n",
    "for row in matrix:\n",
    "    \"\"\"\n",
    "        iterating through the columns of the row and checking if\n",
    "        it is the max value and min value\n",
    "    \"\"\"\n",
    "    for column in range(len(row)):\n",
    "        # Checking for min value\n",
    "        if row[column] < min_and_max_val[column][0]:\n",
    "            min_and_max_val[column][0] = row[column]\n",
    "        \n",
    "        # checking for max value\n",
    "        if row[column] > min_and_max_val[column][1]:\n",
    "            min_and_max_val[column][1] = row[column]"
   ]
  },
  {
   "cell_type": "code",
   "execution_count": 47,
   "id": "00a34c14",
   "metadata": {},
   "outputs": [
    {
     "name": "stdout",
     "output_type": "stream",
     "text": [
      "In column 1:\n",
      "\tMinimum Value: 1\n",
      "\tMaximun Value: 5\n",
      "In column 2:\n",
      "\tMinimum Value: 3\n",
      "\tMaximun Value: 8\n",
      "In column 3:\n",
      "\tMinimum Value: 4\n",
      "\tMaximun Value: 6\n"
     ]
    }
   ],
   "source": [
    "# printing the min and max values\n",
    "for index in range(len(min_and_max_val)):\n",
    "    print(f'In column {index+1}:\\n\\tMinimum Value: {min_and_max_val[index][0]}\\n\\tMaximun Value: {min_and_max_val[index][1]}')"
   ]
  },
  {
   "cell_type": "code",
   "execution_count": null,
   "id": "548527fa",
   "metadata": {},
   "outputs": [],
   "source": []
  }
 ],
 "metadata": {
  "kernelspec": {
   "display_name": "Python 3 (ipykernel)",
   "language": "python",
   "name": "python3"
  },
  "language_info": {
   "codemirror_mode": {
    "name": "ipython",
    "version": 3
   },
   "file_extension": ".py",
   "mimetype": "text/x-python",
   "name": "python",
   "nbconvert_exporter": "python",
   "pygments_lexer": "ipython3",
   "version": "3.8.11"
  }
 },
 "nbformat": 4,
 "nbformat_minor": 5
}
